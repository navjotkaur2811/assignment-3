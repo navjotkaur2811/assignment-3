{
  "nbformat": 4,
  "nbformat_minor": 0,
  "metadata": {
    "colab": {
      "name": "Untitled5.ipynb",
      "provenance": [],
      "authorship_tag": "ABX9TyMiMXBBDpXZzHruYexIfE4N",
      "include_colab_link": true
    },
    "kernelspec": {
      "name": "python3",
      "display_name": "Python 3"
    },
    "language_info": {
      "name": "python"
    }
  },
  "cells": [
    {
      "cell_type": "markdown",
      "metadata": {
        "id": "view-in-github",
        "colab_type": "text"
      },
      "source": [
        "<a href=\"https://colab.research.google.com/github/navjotkaur2811/assignment-3/blob/main/Untitled5.ipynb\" target=\"_parent\"><img src=\"https://colab.research.google.com/assets/colab-badge.svg\" alt=\"Open In Colab\"/></a>"
      ]
    },
    {
      "cell_type": "code",
      "metadata": {
        "colab": {
          "base_uri": "https://localhost:8080/"
        },
        "id": "O1JtcHAaHvCq",
        "outputId": "3a60b8cc-519d-47f1-e3c9-6ce757422bf4"
      },
      "source": [
        "#Assignment-3 to check whether a given string is pangram or not\n",
        "#pangram is a sentence containing all the letters of english alphabets\n",
        "string=\"My name is Navjot kaur and i live in punjab\"\n",
        "alphabet=\"abcdefghijklmnopqrstuvwxyz\"\n",
        "Flag=True\n",
        "for char in alphabet:\n",
        "  if char not in string.lower():\n",
        "    Flag=False\n",
        "if(Flag==True):\n",
        "  print(\"Given string is a pangram\")\n",
        "else:\n",
        "  print(\"Given string is not a pangram\")      \n"
      ],
      "execution_count": 2,
      "outputs": [
        {
          "output_type": "stream",
          "text": [
            "Given string is not a pangram\n"
          ],
          "name": "stdout"
        }
      ]
    }
  ]
}